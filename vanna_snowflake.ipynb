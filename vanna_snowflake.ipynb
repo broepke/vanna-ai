{
 "cells": [
  {
   "cell_type": "markdown",
   "metadata": {},
   "source": [
    "# Vanna.AI Test\n",
    "\n",
    "https://vanna.ai/docs/snowflake-openai-vanna-vannadb.html"
   ]
  },
  {
   "cell_type": "code",
   "execution_count": null,
   "metadata": {},
   "outputs": [],
   "source": [
    "import os\n",
    "import vanna\n",
    "from vanna.remote import VannaDefault"
   ]
  },
  {
   "cell_type": "code",
   "execution_count": null,
   "metadata": {},
   "outputs": [],
   "source": [
    "SNOW_ACCOUNT = os.environ.get(\"SNOW_ACCOUNT\")\n",
    "SNOW_USER = os.environ.get(\"SNOW_USER\")\n",
    "SNOW_PASS = os.environ.get(\"SNOW_PASS\")\n",
    "SNOW_WAREHOUSE = \"DEADPOOL\"\n",
    "SNOW_DATABASE = \"DEADPOOL\"\n",
    "\n",
    "api_key = vanna.get_api_key(\"VANNA_API_KEY\")"
   ]
  },
  {
   "cell_type": "code",
   "execution_count": null,
   "metadata": {},
   "outputs": [],
   "source": [
    "vanna_model_name = \"deadpool-test\"\n",
    "vn = VannaDefault(model=vanna_model_name, api_key=api_key)"
   ]
  },
  {
   "cell_type": "code",
   "execution_count": null,
   "metadata": {},
   "outputs": [],
   "source": [
    "snow_account = os.environ.get(\"VANNA_API_KEY\")\n",
    "\n",
    "vn.connect_to_snowflake(\n",
    "    account=SNOW_ACCOUNT,\n",
    "    username=SNOW_USER,\n",
    "    password=SNOW_PASS,\n",
    "    database=SNOW_DATABASE,\n",
    "    role=\"ENGINEER\",\n",
    ")"
   ]
  },
  {
   "cell_type": "markdown",
   "metadata": {},
   "source": [
    "## Only Run This Next Section if There are Changes"
   ]
  },
  {
   "cell_type": "code",
   "execution_count": null,
   "metadata": {},
   "outputs": [],
   "source": [
    "# The information schema query may need some tweaking depending on your database. This is a good starting point.\n",
    "df_information_schema = vn.run_sql(\"SELECT * FROM INFORMATION_SCHEMA.COLUMNS WHERE TABLE_NAME = 'PLAYERS' OR TABLE_NAME = 'PICKS'\")\n",
    "\n",
    "# This will break up the information schema into bite-sized chunks that can be referenced by the LLM\n",
    "plan = vn.get_training_plan_generic(df_information_schema)\n",
    "plan\n",
    "\n",
    "# If you like the plan, then uncomment this and run it to train\n",
    "vn.train(plan=plan)"
   ]
  },
  {
   "cell_type": "code",
   "execution_count": null,
   "metadata": {},
   "outputs": [],
   "source": [
    "plan"
   ]
  },
  {
   "cell_type": "code",
   "execution_count": null,
   "metadata": {},
   "outputs": [],
   "source": [
    "# The following are methods for adding training data. Make sure you modify the examples to match your database.\n",
    "\n",
    "# DDL statements are powerful because they specify table names, colume names, types, and potentially relationships\n",
    "vn.train(ddl=\"\"\"\n",
    "    CREATE TABLE IF NOT EXISTS DEADPOOL.PROD.PICKS (\n",
    "\tNAME VARCHAR(256),\n",
    "\tBIRTH_DATE DATE,\n",
    "\tDEATH_DATE DATE,\n",
    "\tPICKED_BY VARCHAR(256),\n",
    "\tWIKI_PAGE VARCHAR(256),\n",
    "\tYEAR NUMBER(38,0),\n",
    "\tTIMESTAMP TIMESTAMP_NTZ(9),\n",
    "\tWIKI_ID VARCHAR(256),\n",
    "\tAGE NUMBER(10,1),\n",
    " \tprimary key (NAME),\n",
    "\tforeign key (PICKED_BY) references DEADPOOL.PROD.PLAYERS(ID)\n",
    ");\n",
    "\"\"\")\n",
    "\n",
    "vn.train(ddl=\"\"\"\n",
    "    CREATE TABLE IF NOT EXISTS DEADPOOL.PROD.PLAYERS (\n",
    "\tFIRST_NAME VARCHAR(256),\n",
    "\tLAST_NAME VARCHAR(256),\n",
    "\tEMAIL VARCHAR(256),\n",
    "\tOPT_IN BOOLEAN,\n",
    "\tSMS VARCHAR(256),\n",
    "\tID VARCHAR(36),\n",
    "\tPASSWORD VARCHAR(256),\n",
    "\tYEAR_ONE NUMBER(10,1),\n",
    "\tYEAR_TWO NUMBER(10,1),\n",
    "\tprimary key (ID),\n",
    ");\n",
    "\"\"\")\n",
    "\n",
    "# Add documentation about your business terminology or definitions.\n",
    "vn.train(documentation=\"You are the Arbiter.  You are the judge of the game DEADPOOL. You have access to a data frame with a column called NAME, which represents celebrity picks for this year, 2024.  The PLAYERS column contains the game's participants.\")  \n",
    "\n",
    "vn.train(documentation=\"When asked about the score or points in the game, you should apply the following formula (50 + (100-PICKS.AGE)).  Points only count when the NAME is dead as indicated by the DEATH_DATE column being not null.  When you calculate the leaders of the game, you must only count NAMES that have a DEATH_DATE and then calculate the points with the formula.\")  \n",
    "\n",
    "vn.train(documentation=\"When you deal with these dataframes, please join them together by the ID field in PLAYERS and the PICKED_BY field in PICKS.\")\n",
    "\n",
    "# You can also add SQL queries to your training data. This is useful if you have some queries already laying around. You can just copy and paste those from your editor to begin generating new SQL.\n",
    "vn.train(sql=\"\"\"\n",
    "select concat(first_name || ' ' || last_name), count(name) as total_picks \n",
    "from picks\n",
    "left join players\n",
    "on picks.picked_by = players.id\n",
    "where year = 2024 \n",
    "group by 1         \n",
    "\"\"\")"
   ]
  },
  {
   "cell_type": "markdown",
   "metadata": {},
   "source": [
    "### If you need to delete all the training data, you can with this"
   ]
  },
  {
   "cell_type": "code",
   "execution_count": null,
   "metadata": {},
   "outputs": [],
   "source": [
    "# At any time you can inspect what training data the package is able to reference\n",
    "training_data = vn.get_training_data()\n",
    "training_data"
   ]
  },
  {
   "cell_type": "code",
   "execution_count": null,
   "metadata": {},
   "outputs": [],
   "source": [
    "for id in training_data['id']:\n",
    "    vn.remove_training_data(id)"
   ]
  },
  {
   "cell_type": "markdown",
   "metadata": {},
   "source": [
    "## Ask the Data Some Questions"
   ]
  },
  {
   "cell_type": "code",
   "execution_count": null,
   "metadata": {},
   "outputs": [],
   "source": [
    "vn.ask(question=\"How many players are there in the game?\", visualize=False)"
   ]
  },
  {
   "cell_type": "code",
   "execution_count": null,
   "metadata": {},
   "outputs": [],
   "source": [
    "vn.ask(question=\"Show the first and last name along with the total number of picks for each player\", visualize=False)"
   ]
  },
  {
   "cell_type": "code",
   "execution_count": null,
   "metadata": {},
   "outputs": [],
   "source": [
    "vn.ask(question=\"Which PLAYER is currently leading the game?\")"
   ]
  },
  {
   "cell_type": "markdown",
   "metadata": {},
   "source": [
    "## Run a Local Server"
   ]
  },
  {
   "cell_type": "code",
   "execution_count": null,
   "metadata": {},
   "outputs": [],
   "source": [
    "from vanna.flask import VannaFlaskApp\n",
    "app = VannaFlaskApp(vn)\n",
    "app.run()"
   ]
  },
  {
   "cell_type": "code",
   "execution_count": null,
   "metadata": {},
   "outputs": [],
   "source": []
  }
 ],
 "metadata": {
  "kernelspec": {
   "display_name": "venv",
   "language": "python",
   "name": "python3"
  },
  "language_info": {
   "codemirror_mode": {
    "name": "ipython",
    "version": 3
   },
   "file_extension": ".py",
   "mimetype": "text/x-python",
   "name": "python",
   "nbconvert_exporter": "python",
   "pygments_lexer": "ipython3",
   "version": "3.11.7"
  }
 },
 "nbformat": 4,
 "nbformat_minor": 2
}
