{
 "cells": [
  {
   "cell_type": "markdown",
   "metadata": {},
   "source": [
    "# Vanna.AI Test\n",
    "\n",
    "https://vanna.ai/docs/snowflake-openai-vanna-vannadb.html"
   ]
  },
  {
   "cell_type": "code",
   "execution_count": 1,
   "metadata": {},
   "outputs": [],
   "source": [
    "import os\n",
    "import vanna\n",
    "from vanna.remote import VannaDefault"
   ]
  },
  {
   "cell_type": "code",
   "execution_count": 2,
   "metadata": {},
   "outputs": [],
   "source": [
    "SNOW_ACCOUNT = os.environ.get(\"SNOW_ACCOUNT\")\n",
    "SNOW_USER = os.environ.get(\"SNOW_USER\")\n",
    "SNOW_PASS = os.environ.get(\"SNOW_PASS\")\n",
    "SNOW_WAREHOUSE = \"DEADPOOL\"\n",
    "SNOW_DATABASE = \"DEADPOOL\"\n",
    "\n",
    "api_key = vanna.get_api_key(\"VANNA_API_KEY\")"
   ]
  },
  {
   "cell_type": "code",
   "execution_count": 3,
   "metadata": {},
   "outputs": [],
   "source": [
    "vanna_model_name = \"deadpool-test\"\n",
    "vn = VannaDefault(model=vanna_model_name, api_key=api_key)"
   ]
  },
  {
   "cell_type": "code",
   "execution_count": 4,
   "metadata": {},
   "outputs": [],
   "source": [
    "snow_account = os.environ.get(\"VANNA_API_KEY\")\n",
    "\n",
    "vn.connect_to_snowflake(\n",
    "    account=SNOW_ACCOUNT,\n",
    "    username=SNOW_USER,\n",
    "    password=SNOW_PASS,\n",
    "    database=SNOW_DATABASE,\n",
    "    role=\"ENGINEER\",\n",
    ")"
   ]
  },
  {
   "cell_type": "markdown",
   "metadata": {},
   "source": [
    "## Only Run This Next Section if There are Changes"
   ]
  },
  {
   "cell_type": "code",
   "execution_count": 5,
   "metadata": {},
   "outputs": [],
   "source": [
    "# The information schema query may need some tweaking depending on your database. This is a good starting point.\n",
    "df_information_schema = vn.run_sql(\"SELECT * FROM INFORMATION_SCHEMA.COLUMNS WHERE (TABLE_NAME = 'PLAYERS' OR TABLE_NAME = 'PICKS' OR TABLE_NAME = 'SCORES') AND TABLE_SCHEMA = 'PROD'\")\n",
    "\n",
    "# This will break up the information schema into bite-sized chunks that can be referenced by the LLM\n",
    "plan = vn.get_training_plan_generic(df_information_schema)\n",
    "plan\n",
    "\n",
    "# If you like the plan, then uncomment this and run it to train\n",
    "vn.train(plan=plan)"
   ]
  },
  {
   "cell_type": "code",
   "execution_count": 6,
   "metadata": {},
   "outputs": [
    {
     "data": {
      "text/plain": [
       "Train on Information Schema: DEADPOOL.PROD PLAYERS\n",
       "Train on Information Schema: DEADPOOL.PROD SCORES\n",
       "Train on Information Schema: DEADPOOL.PROD PICKS"
      ]
     },
     "execution_count": 6,
     "metadata": {},
     "output_type": "execute_result"
    }
   ],
   "source": [
    "plan"
   ]
  },
  {
   "cell_type": "code",
   "execution_count": 9,
   "metadata": {},
   "outputs": [
    {
     "name": "stdout",
     "output_type": "stream",
     "text": [
      "Adding ddl: \n",
      "\tCREATE OR REPLACE TABLE DEADPOOL.PROD.PICKS (\n",
      "\t\tNAME VARCHAR(256),\n",
      "\t\tBIRTH_DATE DATE,\n",
      "\t\tDEATH_DATE DATE,\n",
      "\t\tPICKED_BY VARCHAR(256),\n",
      "\t\tWIKI_PAGE VARCHAR(256),\n",
      "\t\tYEAR NUMBER(38,0),\n",
      "\t\tTIMESTAMP TIMESTAMP_NTZ(9),\n",
      "\t\tWIKI_ID VARCHAR(256),\n",
      "\t\tAGE NUMBER(10,1),\n",
      "\t\tFOREIGN KEY (PICKED_BY) REFERENCES DEADPOOL.PROD.PLAYERS(ID)\n",
      ");\n",
      "\n",
      "Adding ddl: \n",
      "\tCREATE OR REPLACE TABLE DEADPOOL.PROD.PLAYERS (\n",
      "\t\tFIRST_NAME VARCHAR(256),\n",
      "\t\tLAST_NAME VARCHAR(256),\n",
      "\t\tEMAIL VARCHAR(256),\n",
      "\t\tOPT_IN BOOLEAN,\n",
      "\t\tSMS VARCHAR(256),\n",
      "\t\tID VARCHAR(36),\n",
      "\t\tPASSWORD VARCHAR(256),\n",
      "\t\tYEAR_ONE NUMBER(10,1),\n",
      "\t\tYEAR_TWO NUMBER(10,1),\n",
      "\t\tPRIMARY KEY (ID),\n",
      ");\n",
      "\n",
      "Adding ddl: \n",
      "\tCREATE OR REPLACE TRANSIENT TABLE DEADPOOL.PROD.SCORES (\n",
      "\t\tPLAYER_ID VARCHAR(36),\n",
      "\t\tTOTAL NUMBER(38,0),\n",
      "\t\tBASE_SCORE NUMBER(24,1),\n",
      "\t\tFIRST_BLOOD NUMBER(38,0),\n",
      "\t\tLAST_BLOOD NUMBER(38,0),\n",
      "\t\tQ_ONE NUMBER(38,0),\n",
      "\t\tQ_TWO NUMBER(38,0),\n",
      "\t\tQ_THREE NUMBER(38,0),\n",
      "\t\tQ_FOUR NUMBER(38,0),\n",
      "  \t\tforeign key (PICKED_BY) references DEADPOOL.PROD.PLAYERS(ID)\n",
      ");\n",
      ");\n",
      "\n",
      "Adding documentation....\n",
      "Adding documentation....\n",
      "Adding documentation....\n",
      "Question generated with sql: What are the total number of picks made by each player in the year 2024? \n",
      "Adding SQL...\n",
      "Question generated with sql: What are the player names and their total scores, ordered by total score in descending order? \n",
      "Adding SQL...\n"
     ]
    },
    {
     "data": {
      "text/plain": [
       "'3b0be1acd9b9ccefd0c74ab8ad3afd36-sql'"
      ]
     },
     "execution_count": 9,
     "metadata": {},
     "output_type": "execute_result"
    }
   ],
   "source": [
    "# The following are methods for adding training data. Make sure you modify the examples to match your database.\n",
    "\n",
    "# DDL statements are powerful because they specify table names, colume names, types, and potentially relationships\n",
    "vn.train(ddl=\"\"\"\n",
    "\tCREATE OR REPLACE TABLE DEADPOOL.PROD.PICKS (\n",
    "\t\tNAME VARCHAR(256),\n",
    "\t\tBIRTH_DATE DATE,\n",
    "\t\tDEATH_DATE DATE,\n",
    "\t\tPICKED_BY VARCHAR(256),\n",
    "\t\tWIKI_PAGE VARCHAR(256),\n",
    "\t\tYEAR NUMBER(38,0),\n",
    "\t\tTIMESTAMP TIMESTAMP_NTZ(9),\n",
    "\t\tWIKI_ID VARCHAR(256),\n",
    "\t\tAGE NUMBER(10,1),\n",
    "\t\tFOREIGN KEY (PICKED_BY) REFERENCES DEADPOOL.PROD.PLAYERS(ID)\n",
    ");\n",
    "\"\"\")\n",
    "\n",
    "vn.train(ddl=\"\"\"\n",
    "\tCREATE OR REPLACE TABLE DEADPOOL.PROD.PLAYERS (\n",
    "\t\tFIRST_NAME VARCHAR(256),\n",
    "\t\tLAST_NAME VARCHAR(256),\n",
    "\t\tEMAIL VARCHAR(256),\n",
    "\t\tOPT_IN BOOLEAN,\n",
    "\t\tSMS VARCHAR(256),\n",
    "\t\tID VARCHAR(36),\n",
    "\t\tPASSWORD VARCHAR(256),\n",
    "\t\tYEAR_ONE NUMBER(10,1),\n",
    "\t\tYEAR_TWO NUMBER(10,1),\n",
    "\t\tPRIMARY KEY (ID),\n",
    ");\n",
    "\"\"\")\n",
    "\n",
    "vn.train(ddl=\"\"\"\n",
    "\tCREATE OR REPLACE TRANSIENT TABLE DEADPOOL.PROD.SCORES (\n",
    "\t\tPLAYER_ID VARCHAR(36),\n",
    "\t\tTOTAL NUMBER(38,0),\n",
    "\t\tBASE_SCORE NUMBER(24,1),\n",
    "\t\tFIRST_BLOOD NUMBER(38,0),\n",
    "\t\tLAST_BLOOD NUMBER(38,0),\n",
    "\t\tQ_ONE NUMBER(38,0),\n",
    "\t\tQ_TWO NUMBER(38,0),\n",
    "\t\tQ_THREE NUMBER(38,0),\n",
    "\t\tQ_FOUR NUMBER(38,0),\n",
    "  \t\tforeign key (PICKED_BY) references DEADPOOL.PROD.PLAYERS(ID)\n",
    ");\n",
    ");\n",
    "\"\"\")\n",
    "\n",
    "# Add documentation about your business terminology or definitions.\n",
    "vn.train(documentation=\"You are the Arbiter.  You are the judge of the game DEADPOOL. You have access to a data frame with a column called NAME, which represents celebrity picks for this year, 2024.  The PLAYERS column contains the game's participants.\")  \n",
    "\n",
    "vn.train(documentation=\"When asked about the score or points in the game, you should join the table SCORES on SCORES.ID = PLAYERS.ID. This will allow you certain different values, but the TOTAL column is the value you should retreive.\")  \n",
    "\n",
    "vn.train(documentation=\"When you deal with these dataframes, please join them together by the ID field in PLAYERS and the PICKED_BY field in PICKS.\")\n",
    "\n",
    "# You can also add SQL queries to your training data. This is useful if you have some queries already laying around. You can just copy and paste those from your editor to begin generating new SQL.\n",
    "vn.train(sql=\"\"\"\n",
    "\tSELECT CONCAT(FIRST_NAME || ' ' || LAST_NAME) AS PLAYER_NAME, COUNT(NAME) AS TOTAL_PICKS \n",
    "\tFROM PICKS\n",
    "\tLEFT JOIN PLAYERS\n",
    "\tON PICKS.PICKED_BY = PLAYERS.ID\n",
    "\tWHERE YEAR = 2024 \n",
    "\tGROUP BY 1\n",
    "\"\"\")\n",
    "\n",
    "vn.train(sql=\"\"\"\n",
    "\tSELECT CONCAT(FIRST_NAME, ' ', LAST_NAME) AS PLAYER_NAME, TOTAL\n",
    "\tFROM DEADPOOL.PROD.PLAYERS\n",
    "\tJOIN DEADPOOL.PROD.SCORES\n",
    "\tON PLAYERS.ID = SCORES.ID\n",
    "\tORDER BY TOTAL DESC;         \n",
    "\"\"\")"
   ]
  },
  {
   "cell_type": "markdown",
   "metadata": {},
   "source": [
    "### If you need to delete all the training data, you can with this"
   ]
  },
  {
   "cell_type": "code",
   "execution_count": 7,
   "metadata": {},
   "outputs": [
    {
     "data": {
      "text/html": [
       "<div>\n",
       "<style scoped>\n",
       "    .dataframe tbody tr th:only-of-type {\n",
       "        vertical-align: middle;\n",
       "    }\n",
       "\n",
       "    .dataframe tbody tr th {\n",
       "        vertical-align: top;\n",
       "    }\n",
       "\n",
       "    .dataframe thead th {\n",
       "        text-align: right;\n",
       "    }\n",
       "</style>\n",
       "<table border=\"1\" class=\"dataframe\">\n",
       "  <thead>\n",
       "    <tr style=\"text-align: right;\">\n",
       "      <th></th>\n",
       "      <th>id</th>\n",
       "      <th>training_data_type</th>\n",
       "      <th>question</th>\n",
       "      <th>content</th>\n",
       "    </tr>\n",
       "  </thead>\n",
       "  <tbody>\n",
       "    <tr>\n",
       "      <th>0</th>\n",
       "      <td>170341-doc</td>\n",
       "      <td>documentation</td>\n",
       "      <td>NaN</td>\n",
       "      <td>The following columns are in the SCORES table ...</td>\n",
       "    </tr>\n",
       "    <tr>\n",
       "      <th>1</th>\n",
       "      <td>170340-doc</td>\n",
       "      <td>documentation</td>\n",
       "      <td>NaN</td>\n",
       "      <td>The following columns are in the PLAYERS table...</td>\n",
       "    </tr>\n",
       "    <tr>\n",
       "      <th>2</th>\n",
       "      <td>170342-doc</td>\n",
       "      <td>documentation</td>\n",
       "      <td>NaN</td>\n",
       "      <td>The following columns are in the PICKS table i...</td>\n",
       "    </tr>\n",
       "  </tbody>\n",
       "</table>\n",
       "</div>"
      ],
      "text/plain": [
       "           id training_data_type  question  \\\n",
       "0  170341-doc      documentation       NaN   \n",
       "1  170340-doc      documentation       NaN   \n",
       "2  170342-doc      documentation       NaN   \n",
       "\n",
       "                                             content  \n",
       "0  The following columns are in the SCORES table ...  \n",
       "1  The following columns are in the PLAYERS table...  \n",
       "2  The following columns are in the PICKS table i...  "
      ]
     },
     "execution_count": 7,
     "metadata": {},
     "output_type": "execute_result"
    }
   ],
   "source": [
    "# At any time you can inspect what training data the package is able to reference\n",
    "training_data = vn.get_training_data()\n",
    "training_data"
   ]
  },
  {
   "cell_type": "code",
   "execution_count": 8,
   "metadata": {},
   "outputs": [],
   "source": [
    "for id in training_data['id']:\n",
    "    vn.remove_training_data(id)"
   ]
  },
  {
   "cell_type": "markdown",
   "metadata": {},
   "source": [
    "## Ask the Data Some Questions"
   ]
  },
  {
   "cell_type": "code",
   "execution_count": null,
   "metadata": {},
   "outputs": [],
   "source": [
    "vn.ask(question=\"How many players are there in the game?\", visualize=False)"
   ]
  },
  {
   "cell_type": "code",
   "execution_count": null,
   "metadata": {},
   "outputs": [],
   "source": [
    "vn.ask(question=\"Show the first and last name along with the total number of picks for each player\", visualize=True)"
   ]
  },
  {
   "cell_type": "code",
   "execution_count": null,
   "metadata": {},
   "outputs": [],
   "source": [
    "vn.ask(question=\"Which PLAYER is currently leading the game?\", visualize=True)"
   ]
  },
  {
   "cell_type": "code",
   "execution_count": null,
   "metadata": {},
   "outputs": [],
   "source": [
    "vn.ask(question=\"Show me the scores of the top 3 players in the game?\", visualize=True)"
   ]
  },
  {
   "cell_type": "markdown",
   "metadata": {},
   "source": [
    "## Run a Local Server"
   ]
  },
  {
   "cell_type": "code",
   "execution_count": 10,
   "metadata": {},
   "outputs": [
    {
     "name": "stdout",
     "output_type": "stream",
     "text": [
      "Your app is running at:\n",
      "http://localhost:8084\n",
      " * Serving Flask app 'vanna.flask'\n",
      " * Debug mode: off\n"
     ]
    }
   ],
   "source": [
    "from vanna.flask import VannaFlaskApp\n",
    "app = VannaFlaskApp(vn, allow_llm_to_see_data=True)\n",
    "app.run()"
   ]
  },
  {
   "cell_type": "code",
   "execution_count": null,
   "metadata": {},
   "outputs": [],
   "source": []
  }
 ],
 "metadata": {
  "kernelspec": {
   "display_name": "venv",
   "language": "python",
   "name": "python3"
  },
  "language_info": {
   "codemirror_mode": {
    "name": "ipython",
    "version": 3
   },
   "file_extension": ".py",
   "mimetype": "text/x-python",
   "name": "python",
   "nbconvert_exporter": "python",
   "pygments_lexer": "ipython3",
   "version": "3.11.7"
  }
 },
 "nbformat": 4,
 "nbformat_minor": 2
}
