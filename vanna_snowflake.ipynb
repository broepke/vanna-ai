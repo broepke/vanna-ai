{
 "cells": [
  {
   "cell_type": "markdown",
   "metadata": {},
   "source": [
    "# Vanna.AI Test\n",
    "\n",
    "https://vanna.ai/docs/snowflake-openai-vanna-vannadb.html"
   ]
  },
  {
   "cell_type": "code",
   "execution_count": null,
   "metadata": {},
   "outputs": [],
   "source": [
    "import os\n",
    "import vanna\n",
    "from vanna.remote import VannaDefault"
   ]
  },
  {
   "cell_type": "code",
   "execution_count": null,
   "metadata": {},
   "outputs": [],
   "source": [
    "api_key = vanna.get_api_key(\"VANNA_API_KEY\")"
   ]
  },
  {
   "cell_type": "code",
   "execution_count": null,
   "metadata": {},
   "outputs": [],
   "source": [
    "vanna_model_name = \"deadpool-test\"\n",
    "vn = VannaDefault(model=vanna_model_name, api_key=api_key)"
   ]
  },
  {
   "cell_type": "code",
   "execution_count": null,
   "metadata": {},
   "outputs": [],
   "source": [
    "SNOW_ACCOUNT = os.environ.get(\"SNOW_ACCOUNT\")\n",
    "SNOW_USER = os.environ.get(\"SNOW_USER\")\n",
    "SNOW_PASS = os.environ.get(\"SNOW_PASS\")\n",
    "SNOW_WAREHOUSE = \"DEADPOOL\"\n",
    "SNOW_DATABASE = \"DEADPOOL\"\n",
    "\n",
    "vn.connect_to_snowflake(\n",
    "    account=SNOW_ACCOUNT,\n",
    "    username=SNOW_USER,\n",
    "    password=SNOW_PASS,\n",
    "    database=SNOW_DATABASE,\n",
    "    role=\"ENGINEER\",\n",
    ")"
   ]
  },
  {
   "cell_type": "markdown",
   "metadata": {},
   "source": [
    "### If you need to delete all the training data, you can with this"
   ]
  },
  {
   "cell_type": "code",
   "execution_count": null,
   "metadata": {},
   "outputs": [],
   "source": [
    "# At any time you can inspect what training data the package is able to reference\n",
    "training_data = vn.get_training_data()\n",
    "training_data"
   ]
  },
  {
   "cell_type": "code",
   "execution_count": null,
   "metadata": {},
   "outputs": [],
   "source": [
    "for id in training_data['id']:\n",
    "    vn.remove_training_data(id)"
   ]
  },
  {
   "cell_type": "markdown",
   "metadata": {},
   "source": [
    "## Only Run This Next Section if There are Changes"
   ]
  },
  {
   "cell_type": "code",
   "execution_count": null,
   "metadata": {},
   "outputs": [],
   "source": [
    "# The information schema query may need some tweaking depending on your database. This is a good starting point.\n",
    "df_information_schema = vn.run_sql(\"SELECT * FROM INFORMATION_SCHEMA.COLUMNS WHERE (TABLE_NAME = 'PLAYERS' OR TABLE_NAME = 'PICKS' OR TABLE_NAME = 'SCORES') AND TABLE_SCHEMA = 'PROD'\")\n",
    "\n",
    "# This will break up the information schema into bite-sized chunks that can be referenced by the LLM\n",
    "plan = vn.get_training_plan_generic(df_information_schema)\n",
    "plan\n",
    "\n",
    "# If you like the plan, then uncomment this and run it to train\n",
    "vn.train(plan=plan)"
   ]
  },
  {
   "cell_type": "code",
   "execution_count": null,
   "metadata": {},
   "outputs": [],
   "source": [
    "plan"
   ]
  },
  {
   "cell_type": "code",
   "execution_count": null,
   "metadata": {},
   "outputs": [],
   "source": [
    "# The following are methods for adding training data. Make sure you modify the examples to match your database.\n",
    "\n",
    "# DDL statements are powerful because they specify table names, colume names, types, and potentially relationships\n",
    "vn.train(ddl=\"\"\"\n",
    "CREATE OR REPLACE TABLE DEADPOOL.PROD.PICKS (\n",
    "NAME VARCHAR(256),\n",
    "BIRTH_DATE DATE,\n",
    "DEATH_DATE DATE,\n",
    "PICKED_BY VARCHAR(256),\n",
    "WIKI_PAGE VARCHAR(256),\n",
    "YEAR NUMBER(38,0),\n",
    "TIMESTAMP TIMESTAMP_NTZ(9),\n",
    "WIKI_ID VARCHAR(256),\n",
    "AGE NUMBER(10,1),\n",
    "FOREIGN KEY (PICKED_BY) REFERENCES DEADPOOL.PROD.PLAYERS(ID)\n",
    ");\n",
    "\"\"\")\n",
    "\n",
    "vn.train(ddl=\"\"\"\n",
    "CREATE OR REPLACE TABLE DEADPOOL.PROD.PLAYERS (\n",
    "FIRST_NAME VARCHAR(256),\n",
    "LAST_NAME VARCHAR(256),\n",
    "EMAIL VARCHAR(256),\n",
    "OPT_IN BOOLEAN,\n",
    "SMS VARCHAR(256),\n",
    "ID VARCHAR(36),\n",
    "PASSWORD VARCHAR(256),\n",
    "YEAR_ONE NUMBER(10,1),\n",
    "YEAR_TWO NUMBER(10,1),\n",
    "PRIMARY KEY (ID)\n",
    ");\n",
    "\"\"\")\n",
    "\n",
    "vn.train(ddl=\"\"\"\n",
    "CREATE OR REPLACE TRANSIENT TABLE DEADPOOL.PROD.SCORES (\n",
    "PLAYER_ID VARCHAR(36),\n",
    "TOTAL NUMBER(38,0),\n",
    "BASE_SCORE NUMBER(24,1),\n",
    "FIRST_BLOOD NUMBER(38,0),\n",
    "LAST_BLOOD NUMBER(38,0),\n",
    "Q_ONE NUMBER(38,0),\n",
    "Q_TWO NUMBER(38,0),\n",
    "Q_THREE NUMBER(38,0),\n",
    "Q_FOUR NUMBER(38,0),\n",
    "foreign key (PICKED_BY) references DEADPOOL.PROD.PLAYERS(ID)\n",
    ");\n",
    "\"\"\")\n",
    "\n",
    "# Add documentation about your business terminology or definitions.\n",
    "vn.train(documentation=\"You are the Arbiter.  You are the judge of the game DEADPOOL. You have access to a data frame with a column called NAME, which represents celebrity picks for this year, 2024.  The PLAYERS column contains the game's participants.\")  \n",
    "\n",
    "vn.train(documentation=\"When asked about the score or points in the game, you should join the table SCORES on SCORES.ID = PLAYERS.ID. This will allow you certain different values, but the TOTAL column is the value you should retreive.\")  \n",
    "\n",
    "vn.train(documentation=\"When you deal with these dataframes, please join them together by the ID field in PLAYERS and the PICKED_BY field in PICKS.\")\n",
    "\n",
    "# You can also add SQL queries to your training data. This is useful if you have some queries already laying around. You can just copy and paste those from your editor to begin generating new SQL.\n",
    "vn.train(sql=\"\"\"\n",
    "SELECT \n",
    "    CONCAT(FIRST_NAME || ' ' || LAST_NAME) AS PLAYER_NAME, \n",
    "    COUNT(NAME) AS TOTAL_PICKS \n",
    "FROM PICKS\n",
    "LEFT JOIN PLAYERS\n",
    "ON PICKS.PICKED_BY = PLAYERS.ID\n",
    "WHERE YEAR = 2024 \n",
    "GROUP BY 1\n",
    "\"\"\")\n",
    "\n",
    "vn.train(sql=\"\"\"\n",
    "SELECT \n",
    "    CONCAT(FIRST_NAME, ' ', LAST_NAME) AS PLAYER_NAME, \n",
    "    TOTAL\n",
    "FROM DEADPOOL.PROD.PLAYERS\n",
    "JOIN DEADPOOL.PROD.SCORES\n",
    "ON PLAYERS.ID = SCORES.ID\n",
    "ORDER BY TOTAL DESC;\n",
    "\"\"\")\n",
    "\n",
    "vn.train(sql=\"\"\"\n",
    "SELECT\n",
    "    NAME\n",
    "FROM DEADPOOL.PROD.PICKS\n",
    "WHERE AGE IS NOT NULL\n",
    "ORDER BY AGE DESC\n",
    "LIMIT 1;\n",
    "\"\"\")\n",
    "\n",
    "vn.train(sql=\"\"\"\n",
    "SELECT\n",
    "    CONCAT(P.FIRST_NAME, ' ', P.LAST_NAME) AS LEADER,\n",
    "    S.TOTAL\n",
    "FROM PLAYERS P\n",
    "JOIN SCORES S\n",
    "ON P.ID = S.PLAYER_ID\n",
    "ORDER BY S.TOTAL DESC;\n",
    "\"\"\")\n",
    "\n",
    "vn.train(sql=\"\"\"\n",
    "SELECT\n",
    "    CONCAT(P.FIRST_NAME, ' ', P.LAST_NAME) AS LEADER,\n",
    "    S.TOTAL\n",
    "FROM PLAYERS P\n",
    "JOIN SCORES S\n",
    "ON P.ID = S.PLAYER_ID\n",
    "ORDER BY S.TOTAL DESC;\n",
    "\"\"\")"
   ]
  },
  {
   "cell_type": "markdown",
   "metadata": {},
   "source": [
    "## Ask the Data Some Questions"
   ]
  },
  {
   "cell_type": "code",
   "execution_count": null,
   "metadata": {},
   "outputs": [],
   "source": [
    "vn.ask(question=\"How many players are there in the game?\", visualize=False, print_results=False)"
   ]
  },
  {
   "cell_type": "code",
   "execution_count": null,
   "metadata": {},
   "outputs": [],
   "source": [
    "vn.ask(question=\"Show the first and last name along with the total number of picks for each player\", visualize=True, print_results=False)"
   ]
  },
  {
   "cell_type": "code",
   "execution_count": null,
   "metadata": {},
   "outputs": [],
   "source": [
    "vn.ask(question=\"Which PLAYER is currently leading the game?\", visualize=True)"
   ]
  },
  {
   "cell_type": "code",
   "execution_count": null,
   "metadata": {},
   "outputs": [],
   "source": [
    "vn.ask(question=\"Show me the scores of the top 3 players in the game?\", visualize=True)"
   ]
  },
  {
   "cell_type": "code",
   "execution_count": null,
   "metadata": {},
   "outputs": [],
   "source": [
    "vn.generate_sql(question=\"how many players are there\")"
   ]
  },
  {
   "cell_type": "markdown",
   "metadata": {},
   "source": [
    "## Run a Local Server"
   ]
  },
  {
   "cell_type": "code",
   "execution_count": null,
   "metadata": {},
   "outputs": [],
   "source": [
    "from vanna.flask import VannaFlaskApp\n",
    "app = VannaFlaskApp(vn, allow_llm_to_see_data=True)\n",
    "app.run()"
   ]
  },
  {
   "cell_type": "code",
   "execution_count": null,
   "metadata": {},
   "outputs": [],
   "source": []
  }
 ],
 "metadata": {
  "kernelspec": {
   "display_name": "venv",
   "language": "python",
   "name": "python3"
  },
  "language_info": {
   "codemirror_mode": {
    "name": "ipython",
    "version": 3
   },
   "file_extension": ".py",
   "mimetype": "text/x-python",
   "name": "python",
   "nbconvert_exporter": "python",
   "pygments_lexer": "ipython3",
   "version": "3.11.7"
  }
 },
 "nbformat": 4,
 "nbformat_minor": 2
}
