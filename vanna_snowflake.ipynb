{
 "cells": [
  {
   "cell_type": "markdown",
   "metadata": {},
   "source": [
    "# Vanna.AI Test\n",
    "\n",
    "https://vanna.ai/docs/snowflake-openai-vanna-vannadb.html"
   ]
  },
  {
   "cell_type": "code",
   "execution_count": 1,
   "metadata": {},
   "outputs": [],
   "source": [
    "import os\n",
    "import vanna\n",
    "from vanna.remote import VannaDefault"
   ]
  },
  {
   "cell_type": "code",
   "execution_count": 2,
   "metadata": {},
   "outputs": [],
   "source": [
    "api_key = vanna.get_api_key(\"VANNA_API_KEY\")"
   ]
  },
  {
   "cell_type": "code",
   "execution_count": 3,
   "metadata": {},
   "outputs": [],
   "source": [
    "vanna_model_name = \"deadpool-test\"\n",
    "vn = VannaDefault(model=vanna_model_name, api_key=api_key)"
   ]
  },
  {
   "cell_type": "code",
   "execution_count": 4,
   "metadata": {},
   "outputs": [],
   "source": [
    "SNOW_ACCOUNT = os.environ.get(\"SNOW_ACCOUNT\")\n",
    "SNOW_USER = os.environ.get(\"SNOW_USER\")\n",
    "SNOW_PASS = os.environ.get(\"SNOW_PASS\")\n",
    "SNOW_WAREHOUSE = \"DEADPOOL\"\n",
    "SNOW_DATABASE = \"DEADPOOL\"\n",
    "\n",
    "vn.connect_to_snowflake(\n",
    "    account=SNOW_ACCOUNT,\n",
    "    username=SNOW_USER,\n",
    "    password=SNOW_PASS,\n",
    "    database=SNOW_DATABASE,\n",
    "    role=\"ENGINEER\",\n",
    ")"
   ]
  },
  {
   "cell_type": "markdown",
   "metadata": {},
   "source": [
    "### If you need to delete all the training data, you can with this"
   ]
  },
  {
   "cell_type": "code",
   "execution_count": 5,
   "metadata": {},
   "outputs": [
    {
     "data": {
      "text/html": [
       "<div>\n",
       "<style scoped>\n",
       "    .dataframe tbody tr th:only-of-type {\n",
       "        vertical-align: middle;\n",
       "    }\n",
       "\n",
       "    .dataframe tbody tr th {\n",
       "        vertical-align: top;\n",
       "    }\n",
       "\n",
       "    .dataframe thead th {\n",
       "        text-align: right;\n",
       "    }\n",
       "</style>\n",
       "<table border=\"1\" class=\"dataframe\">\n",
       "  <thead>\n",
       "    <tr style=\"text-align: right;\">\n",
       "      <th></th>\n",
       "      <th>id</th>\n",
       "      <th>training_data_type</th>\n",
       "      <th>question</th>\n",
       "      <th>content</th>\n",
       "    </tr>\n",
       "  </thead>\n",
       "  <tbody>\n",
       "    <tr>\n",
       "      <th>0</th>\n",
       "      <td>177527-doc</td>\n",
       "      <td>documentation</td>\n",
       "      <td>None</td>\n",
       "      <td>The following columns are in the SCORES table ...</td>\n",
       "    </tr>\n",
       "    <tr>\n",
       "      <th>1</th>\n",
       "      <td>45623-ddl</td>\n",
       "      <td>ddl</td>\n",
       "      <td>None</td>\n",
       "      <td>\\nCREATE OR REPLACE TRANSIENT TABLE DEADPOOL.P...</td>\n",
       "    </tr>\n",
       "    <tr>\n",
       "      <th>2</th>\n",
       "      <td>153738-sql</td>\n",
       "      <td>sql</td>\n",
       "      <td>What are the total scores of all players, disp...</td>\n",
       "      <td>\\nSELECT CONCAT(FIRST_NAME, ' ', LAST_NAME) AS...</td>\n",
       "    </tr>\n",
       "    <tr>\n",
       "      <th>3</th>\n",
       "      <td>153741-sql</td>\n",
       "      <td>sql</td>\n",
       "      <td>Which player has the highest total score and w...</td>\n",
       "      <td>\\nSELECT CONCAT(P.FIRST_NAME, ' ', P.LAST_NAME...</td>\n",
       "    </tr>\n",
       "    <tr>\n",
       "      <th>4</th>\n",
       "      <td>177529-doc</td>\n",
       "      <td>documentation</td>\n",
       "      <td>None</td>\n",
       "      <td>The following columns are in the PICKS table i...</td>\n",
       "    </tr>\n",
       "    <tr>\n",
       "      <th>5</th>\n",
       "      <td>153740-sql</td>\n",
       "      <td>sql</td>\n",
       "      <td>What are the total scores of each player, list...</td>\n",
       "      <td>\\nSELECT CONCAT(P.FIRST_NAME, ' ', P.LAST_NAME...</td>\n",
       "    </tr>\n",
       "    <tr>\n",
       "      <th>6</th>\n",
       "      <td>177532-doc</td>\n",
       "      <td>documentation</td>\n",
       "      <td>None</td>\n",
       "      <td>When you deal with these dataframes, please jo...</td>\n",
       "    </tr>\n",
       "    <tr>\n",
       "      <th>7</th>\n",
       "      <td>153739-sql</td>\n",
       "      <td>sql</td>\n",
       "      <td>What is the name of the oldest person in the d...</td>\n",
       "      <td>\\nSELECT NAME\\nFROM DEADPOOL.PROD.PICKS\\nWHERE...</td>\n",
       "    </tr>\n",
       "    <tr>\n",
       "      <th>8</th>\n",
       "      <td>153743-sql</td>\n",
       "      <td>sql</td>\n",
       "      <td>How many players are there in the game?</td>\n",
       "      <td>SELECT COUNT(*) AS TOTAL_PLAYERS\\nFROM DEADPOO...</td>\n",
       "    </tr>\n",
       "    <tr>\n",
       "      <th>9</th>\n",
       "      <td>153745-sql</td>\n",
       "      <td>sql</td>\n",
       "      <td>Show me the scores of the top 3 players in the...</td>\n",
       "      <td>SELECT CONCAT(P.FIRST_NAME, ' ', P.LAST_NAME) ...</td>\n",
       "    </tr>\n",
       "    <tr>\n",
       "      <th>10</th>\n",
       "      <td>177530-doc</td>\n",
       "      <td>documentation</td>\n",
       "      <td>None</td>\n",
       "      <td>You are the Arbiter.  You are the judge of the...</td>\n",
       "    </tr>\n",
       "    <tr>\n",
       "      <th>11</th>\n",
       "      <td>153737-sql</td>\n",
       "      <td>sql</td>\n",
       "      <td>What are the total number of picks made by eac...</td>\n",
       "      <td>\\nSELECT CONCAT(FIRST_NAME || ' ' || LAST_NAME...</td>\n",
       "    </tr>\n",
       "    <tr>\n",
       "      <th>12</th>\n",
       "      <td>45622-ddl</td>\n",
       "      <td>ddl</td>\n",
       "      <td>None</td>\n",
       "      <td>\\nCREATE OR REPLACE TABLE DEADPOOL.PROD.PLAYER...</td>\n",
       "    </tr>\n",
       "    <tr>\n",
       "      <th>13</th>\n",
       "      <td>177528-doc</td>\n",
       "      <td>documentation</td>\n",
       "      <td>None</td>\n",
       "      <td>The following columns are in the PLAYERS table...</td>\n",
       "    </tr>\n",
       "    <tr>\n",
       "      <th>14</th>\n",
       "      <td>177531-doc</td>\n",
       "      <td>documentation</td>\n",
       "      <td>None</td>\n",
       "      <td>When asked about the score or points in the ga...</td>\n",
       "    </tr>\n",
       "    <tr>\n",
       "      <th>15</th>\n",
       "      <td>45621-ddl</td>\n",
       "      <td>ddl</td>\n",
       "      <td>None</td>\n",
       "      <td>\\nCREATE OR REPLACE TABLE DEADPOOL.PROD.PICKS ...</td>\n",
       "    </tr>\n",
       "  </tbody>\n",
       "</table>\n",
       "</div>"
      ],
      "text/plain": [
       "            id training_data_type  \\\n",
       "0   177527-doc      documentation   \n",
       "1    45623-ddl                ddl   \n",
       "2   153738-sql                sql   \n",
       "3   153741-sql                sql   \n",
       "4   177529-doc      documentation   \n",
       "5   153740-sql                sql   \n",
       "6   177532-doc      documentation   \n",
       "7   153739-sql                sql   \n",
       "8   153743-sql                sql   \n",
       "9   153745-sql                sql   \n",
       "10  177530-doc      documentation   \n",
       "11  153737-sql                sql   \n",
       "12   45622-ddl                ddl   \n",
       "13  177528-doc      documentation   \n",
       "14  177531-doc      documentation   \n",
       "15   45621-ddl                ddl   \n",
       "\n",
       "                                             question  \\\n",
       "0                                                None   \n",
       "1                                                None   \n",
       "2   What are the total scores of all players, disp...   \n",
       "3   Which player has the highest total score and w...   \n",
       "4                                                None   \n",
       "5   What are the total scores of each player, list...   \n",
       "6                                                None   \n",
       "7   What is the name of the oldest person in the d...   \n",
       "8             How many players are there in the game?   \n",
       "9   Show me the scores of the top 3 players in the...   \n",
       "10                                               None   \n",
       "11  What are the total number of picks made by eac...   \n",
       "12                                               None   \n",
       "13                                               None   \n",
       "14                                               None   \n",
       "15                                               None   \n",
       "\n",
       "                                              content  \n",
       "0   The following columns are in the SCORES table ...  \n",
       "1   \\nCREATE OR REPLACE TRANSIENT TABLE DEADPOOL.P...  \n",
       "2   \\nSELECT CONCAT(FIRST_NAME, ' ', LAST_NAME) AS...  \n",
       "3   \\nSELECT CONCAT(P.FIRST_NAME, ' ', P.LAST_NAME...  \n",
       "4   The following columns are in the PICKS table i...  \n",
       "5   \\nSELECT CONCAT(P.FIRST_NAME, ' ', P.LAST_NAME...  \n",
       "6   When you deal with these dataframes, please jo...  \n",
       "7   \\nSELECT NAME\\nFROM DEADPOOL.PROD.PICKS\\nWHERE...  \n",
       "8   SELECT COUNT(*) AS TOTAL_PLAYERS\\nFROM DEADPOO...  \n",
       "9   SELECT CONCAT(P.FIRST_NAME, ' ', P.LAST_NAME) ...  \n",
       "10  You are the Arbiter.  You are the judge of the...  \n",
       "11  \\nSELECT CONCAT(FIRST_NAME || ' ' || LAST_NAME...  \n",
       "12  \\nCREATE OR REPLACE TABLE DEADPOOL.PROD.PLAYER...  \n",
       "13  The following columns are in the PLAYERS table...  \n",
       "14  When asked about the score or points in the ga...  \n",
       "15  \\nCREATE OR REPLACE TABLE DEADPOOL.PROD.PICKS ...  "
      ]
     },
     "execution_count": 5,
     "metadata": {},
     "output_type": "execute_result"
    }
   ],
   "source": [
    "# At any time you can inspect what training data the package is able to reference\n",
    "training_data = vn.get_training_data()\n",
    "training_data"
   ]
  },
  {
   "cell_type": "code",
   "execution_count": 6,
   "metadata": {},
   "outputs": [],
   "source": [
    "for id in training_data['id']:\n",
    "    vn.remove_training_data(id)"
   ]
  },
  {
   "cell_type": "markdown",
   "metadata": {},
   "source": [
    "## Only Run This Next Section if There are Changes"
   ]
  },
  {
   "cell_type": "code",
   "execution_count": 7,
   "metadata": {},
   "outputs": [],
   "source": [
    "# The information schema query may need some tweaking depending on your database. This is a good starting point.\n",
    "df_information_schema = vn.run_sql(\"SELECT * FROM INFORMATION_SCHEMA.COLUMNS WHERE (TABLE_NAME = 'PLAYERS' OR TABLE_NAME = 'PICKS' OR TABLE_NAME = 'SCORES') AND TABLE_SCHEMA = 'PROD'\")\n",
    "\n",
    "# This will break up the information schema into bite-sized chunks that can be referenced by the LLM\n",
    "plan = vn.get_training_plan_generic(df_information_schema)\n",
    "plan\n",
    "\n",
    "# If you like the plan, then uncomment this and run it to train\n",
    "vn.train(plan=plan)"
   ]
  },
  {
   "cell_type": "code",
   "execution_count": 8,
   "metadata": {},
   "outputs": [
    {
     "data": {
      "text/plain": [
       "Train on Information Schema: DEADPOOL.PROD PLAYERS\n",
       "Train on Information Schema: DEADPOOL.PROD SCORES\n",
       "Train on Information Schema: DEADPOOL.PROD PICKS"
      ]
     },
     "execution_count": 8,
     "metadata": {},
     "output_type": "execute_result"
    }
   ],
   "source": [
    "plan"
   ]
  },
  {
   "cell_type": "code",
   "execution_count": 9,
   "metadata": {},
   "outputs": [
    {
     "name": "stdout",
     "output_type": "stream",
     "text": [
      "Adding ddl: \n",
      "CREATE OR REPLACE TABLE DEADPOOL.PROD.PICKS (\n",
      "NAME VARCHAR(256),\n",
      "BIRTH_DATE DATE,\n",
      "DEATH_DATE DATE,\n",
      "PICKED_BY VARCHAR(256),\n",
      "WIKI_PAGE VARCHAR(256),\n",
      "YEAR NUMBER(38,0),\n",
      "TIMESTAMP TIMESTAMP_NTZ(9),\n",
      "WIKI_ID VARCHAR(256),\n",
      "AGE NUMBER(10,1),\n",
      "FOREIGN KEY (PICKED_BY) REFERENCES DEADPOOL.PROD.PLAYERS(ID)\n",
      ");\n",
      "\n",
      "Adding ddl: \n",
      "CREATE OR REPLACE TABLE DEADPOOL.PROD.PLAYERS (\n",
      "FIRST_NAME VARCHAR(256),\n",
      "LAST_NAME VARCHAR(256),\n",
      "EMAIL VARCHAR(256),\n",
      "OPT_IN BOOLEAN,\n",
      "SMS VARCHAR(256),\n",
      "ID VARCHAR(36),\n",
      "PASSWORD VARCHAR(256),\n",
      "YEAR_ONE NUMBER(10,1),\n",
      "YEAR_TWO NUMBER(10,1),\n",
      "PRIMARY KEY (ID)\n",
      ");\n",
      "\n",
      "Adding ddl: \n",
      "CREATE OR REPLACE TRANSIENT TABLE DEADPOOL.PROD.SCORES (\n",
      "PLAYER_ID VARCHAR(36),\n",
      "TOTAL NUMBER(38,0),\n",
      "BASE_SCORE NUMBER(24,1),\n",
      "FIRST_BLOOD NUMBER(38,0),\n",
      "LAST_BLOOD NUMBER(38,0),\n",
      "Q_ONE NUMBER(38,0),\n",
      "Q_TWO NUMBER(38,0),\n",
      "Q_THREE NUMBER(38,0),\n",
      "Q_FOUR NUMBER(38,0),\n",
      "foreign key (PICKED_BY) references DEADPOOL.PROD.PLAYERS(ID)\n",
      ");\n",
      "\n",
      "Adding documentation....\n",
      "Adding documentation....\n",
      "Adding documentation....\n",
      "Question generated with sql: What are the total number of picks made by each player in the year 2024? \n",
      "Adding SQL...\n",
      "Question generated with sql: What are the total scores of players, listed in descending order, along with their full names? \n",
      "Adding SQL...\n",
      "Question generated with sql: What is the name of the oldest person in the dataset? \n",
      "Adding SQL...\n",
      "Question generated with sql: What are the total scores of all players, along with the names of their leaders, in descending order of total scores? \n",
      "Adding SQL...\n",
      "Question generated with sql: What are the player names and their total scores, sorted in descending order of total score? \n",
      "Adding SQL...\n"
     ]
    },
    {
     "data": {
      "text/plain": [
       "'a2f560578eb6b41107f4781d89963825-sql'"
      ]
     },
     "execution_count": 9,
     "metadata": {},
     "output_type": "execute_result"
    }
   ],
   "source": [
    "# The following are methods for adding training data. Make sure you modify the examples to match your database.\n",
    "\n",
    "# DDL statements are powerful because they specify table names, colume names, types, and potentially relationships\n",
    "vn.train(ddl=\"\"\"\n",
    "CREATE OR REPLACE TABLE DEADPOOL.PROD.PICKS (\n",
    "NAME VARCHAR(256),\n",
    "BIRTH_DATE DATE,\n",
    "DEATH_DATE DATE,\n",
    "PICKED_BY VARCHAR(256),\n",
    "WIKI_PAGE VARCHAR(256),\n",
    "YEAR NUMBER(38,0),\n",
    "TIMESTAMP TIMESTAMP_NTZ(9),\n",
    "WIKI_ID VARCHAR(256),\n",
    "AGE NUMBER(10,1),\n",
    "FOREIGN KEY (PICKED_BY) REFERENCES DEADPOOL.PROD.PLAYERS(ID)\n",
    ");\n",
    "\"\"\")\n",
    "\n",
    "vn.train(ddl=\"\"\"\n",
    "CREATE OR REPLACE TABLE DEADPOOL.PROD.PLAYERS (\n",
    "FIRST_NAME VARCHAR(256),\n",
    "LAST_NAME VARCHAR(256),\n",
    "EMAIL VARCHAR(256),\n",
    "OPT_IN BOOLEAN,\n",
    "SMS VARCHAR(256),\n",
    "ID VARCHAR(36),\n",
    "PASSWORD VARCHAR(256),\n",
    "YEAR_ONE NUMBER(10,1),\n",
    "YEAR_TWO NUMBER(10,1),\n",
    "PRIMARY KEY (ID)\n",
    ");\n",
    "\"\"\")\n",
    "\n",
    "vn.train(ddl=\"\"\"\n",
    "CREATE OR REPLACE TRANSIENT TABLE DEADPOOL.PROD.SCORES (\n",
    "PLAYER_ID VARCHAR(36),\n",
    "TOTAL NUMBER(38,0),\n",
    "BASE_SCORE NUMBER(24,1),\n",
    "FIRST_BLOOD NUMBER(38,0),\n",
    "LAST_BLOOD NUMBER(38,0),\n",
    "Q_ONE NUMBER(38,0),\n",
    "Q_TWO NUMBER(38,0),\n",
    "Q_THREE NUMBER(38,0),\n",
    "Q_FOUR NUMBER(38,0),\n",
    "foreign key (PICKED_BY) references DEADPOOL.PROD.PLAYERS(ID)\n",
    ");\n",
    "\"\"\")\n",
    "\n",
    "# Add documentation about your business terminology or definitions.\n",
    "vn.train(documentation=\"You are the Arbiter.  You are the judge of the game DEADPOOL. You have access to a data frame with a column called NAME, which represents celebrity picks for this year, 2024.  The PLAYERS column contains the game's participants.\")  \n",
    "\n",
    "vn.train(documentation=\"When asked about the score or points in the game, you should join the table SCORES on SCORES.ID = PLAYERS.ID. This will allow you certain different values, but the TOTAL column is the value you should retreive.\")  \n",
    "\n",
    "vn.train(documentation=\"When you deal with these dataframes, please join them together by the ID field in PLAYERS and the PICKED_BY field in PICKS.\")\n",
    "\n",
    "# You can also add SQL queries to your training data. This is useful if you have some queries already laying around. You can just copy and paste those from your editor to begin generating new SQL.\n",
    "vn.train(sql=\"\"\"\n",
    "SELECT CONCAT(FIRST_NAME || ' ' || LAST_NAME) AS PLAYER_NAME, COUNT(NAME) AS TOTAL_PICKS \n",
    "FROM PICKS\n",
    "LEFT JOIN PLAYERS\n",
    "ON PICKS.PICKED_BY = PLAYERS.ID\n",
    "WHERE YEAR = 2024 \n",
    "GROUP BY 1\n",
    "\"\"\")\n",
    "\n",
    "vn.train(sql=\"\"\"\n",
    "SELECT CONCAT(FIRST_NAME, ' ', LAST_NAME) AS PLAYER_NAME, TOTAL\n",
    "FROM DEADPOOL.PROD.PLAYERS\n",
    "JOIN DEADPOOL.PROD.SCORES\n",
    "ON PLAYERS.ID = SCORES.ID\n",
    "ORDER BY TOTAL DESC;\n",
    "\"\"\")\n",
    "\n",
    "vn.train(sql=\"\"\"\n",
    "SELECT NAME\n",
    "FROM DEADPOOL.PROD.PICKS\n",
    "WHERE AGE IS NOT NULL\n",
    "ORDER BY AGE DESC\n",
    "LIMIT 1;\n",
    "\"\"\")\n",
    "\n",
    "vn.train(sql=\"\"\"\n",
    "SELECT CONCAT(P.FIRST_NAME, ' ', P.LAST_NAME) AS LEADER, S.TOTAL\n",
    "FROM PLAYERS P\n",
    "JOIN SCORES S\n",
    "ON P.ID = S.PLAYER_ID\n",
    "ORDER BY S.TOTAL DESC;\n",
    "\"\"\")\n",
    "\n",
    "vn.train(sql=\"\"\"\n",
    "SELECT CONCAT(P.FIRST_NAME, ' ', P.LAST_NAME) AS LEADER, S.TOTAL\n",
    "FROM PLAYERS P\n",
    "JOIN SCORES S\n",
    "ON P.ID = S.PLAYER_ID\n",
    "ORDER BY S.TOTAL DESC;\n",
    "\"\"\")"
   ]
  },
  {
   "cell_type": "markdown",
   "metadata": {},
   "source": [
    "## Ask the Data Some Questions"
   ]
  },
  {
   "cell_type": "code",
   "execution_count": 10,
   "metadata": {},
   "outputs": [
    {
     "data": {
      "text/plain": [
       "('SELECT COUNT(*) AS TOTAL_PLAYERS\\nFROM DEADPOOL.PROD.PLAYERS;',\n",
       "    TOTAL_PLAYERS\n",
       " 0             14,\n",
       " None)"
      ]
     },
     "execution_count": 10,
     "metadata": {},
     "output_type": "execute_result"
    }
   ],
   "source": [
    "vn.ask(question=\"How many players are there in the game?\", visualize=False, print_results=False)"
   ]
  },
  {
   "cell_type": "code",
   "execution_count": 19,
   "metadata": {},
   "outputs": [
    {
     "name": "stdout",
     "output_type": "stream",
     "text": [
      "Couldn't run sql:  002003 (42S02): SQL compilation error:\n",
      "Object 'PLAYERS' does not exist or not authorized.\n"
     ]
    },
    {
     "data": {
      "text/plain": [
       "(\"SELECT CONCAT(FIRST_NAME, ' ', LAST_NAME) AS PLAYER_NAME, \\n       COUNT(NAME) AS TOTAL_PICKS\\nFROM PLAYERS\\nLEFT JOIN PICKS ON PLAYERS.ID = PICKS.PICKED_BY\\nGROUP BY PLAYER_NAME;\",\n",
       " None,\n",
       " None)"
      ]
     },
     "execution_count": 19,
     "metadata": {},
     "output_type": "execute_result"
    }
   ],
   "source": [
    "vn.ask(question=\"Show the first and last name along with the total number of picks for each player\", visualize=True, print_results=False)"
   ]
  },
  {
   "cell_type": "code",
   "execution_count": 17,
   "metadata": {},
   "outputs": [
    {
     "name": "stdout",
     "output_type": "stream",
     "text": [
      "SELECT CONCAT(P.FIRST_NAME, ' ', P.LAST_NAME) AS LEADER, S.TOTAL\n",
      "FROM PLAYERS P\n",
      "JOIN SCORES S\n",
      "ON P.ID = S.PLAYER_ID\n",
      "ORDER BY S.TOTAL DESC\n",
      "LIMIT 1;\n",
      "Couldn't run sql:  002003 (42S02): SQL compilation error:\n",
      "Object 'PLAYERS' does not exist or not authorized.\n"
     ]
    }
   ],
   "source": [
    "vn.ask(question=\"Which PLAYER is currently leading the game?\", visualize=True)"
   ]
  },
  {
   "cell_type": "code",
   "execution_count": 16,
   "metadata": {},
   "outputs": [
    {
     "name": "stdout",
     "output_type": "stream",
     "text": [
      "SELECT CONCAT(P.FIRST_NAME, ' ', P.LAST_NAME) AS PLAYER_NAME, S.TOTAL\n",
      "FROM DEADPOOL.PROD.PLAYERS P\n",
      "JOIN DEADPOOL.PROD.SCORES S\n",
      "ON P.ID = S.PLAYER_ID\n",
      "ORDER BY S.TOTAL DESC\n",
      "LIMIT 3;\n",
      "         PLAYER_NAME  TOTAL\n",
      "0  Alexander O'Brien    254\n",
      "1       Will Cokeley     88\n",
      "2        Warren Jahn     74\n"
     ]
    },
    {
     "data": {
      "image/png": "[encoded data removed]",
      "text/plain": [
       "<IPython.core.display.Image object>"
      ]
     },
     "metadata": {},
     "output_type": "display_data"
    },
    {
     "data": {
      "text/plain": [
       "(\"SELECT CONCAT(P.FIRST_NAME, ' ', P.LAST_NAME) AS PLAYER_NAME, S.TOTAL\\nFROM DEADPOOL.PROD.PLAYERS P\\nJOIN DEADPOOL.PROD.SCORES S\\nON P.ID = S.PLAYER_ID\\nORDER BY S.TOTAL DESC\\nLIMIT 3;\",\n",
       "          PLAYER_NAME  TOTAL\n",
       " 0  Alexander O'Brien    254\n",
       " 1       Will Cokeley     88\n",
       " 2        Warren Jahn     74,\n",
       " None)"
      ]
     },
     "execution_count": 16,
     "metadata": {},
     "output_type": "execute_result"
    }
   ],
   "source": [
    "vn.ask(question=\"Show me the scores of the top 3 players in the game?\", visualize=True)"
   ]
  },
  {
   "cell_type": "code",
   "execution_count": 15,
   "metadata": {},
   "outputs": [
    {
     "data": {
      "text/plain": [
       "'SELECT COUNT(*) AS TOTAL_PLAYERS\\nFROM DEADPOOL.PROD.PLAYERS;'"
      ]
     },
     "execution_count": 15,
     "metadata": {},
     "output_type": "execute_result"
    }
   ],
   "source": [
    "vn.generate_sql(question=\"how many players are there\")"
   ]
  },
  {
   "cell_type": "markdown",
   "metadata": {},
   "source": [
    "## Run a Local Server"
   ]
  },
  {
   "cell_type": "code",
   "execution_count": 14,
   "metadata": {},
   "outputs": [
    {
     "name": "stdout",
     "output_type": "stream",
     "text": [
      "Your app is running at:\n",
      "http://localhost:8084\n",
      " * Serving Flask app 'vanna.flask'\n",
      " * Debug mode: off\n"
     ]
    }
   ],
   "source": [
    "from vanna.flask import VannaFlaskApp\n",
    "app = VannaFlaskApp(vn, allow_llm_to_see_data=True)\n",
    "app.run()"
   ]
  },
  {
   "cell_type": "code",
   "execution_count": null,
   "metadata": {},
   "outputs": [],
   "source": []
  }
 ],
 "metadata": {
  "kernelspec": {
   "display_name": "venv",
   "language": "python",
   "name": "python3"
  },
  "language_info": {
   "codemirror_mode": {
    "name": "ipython",
    "version": 3
   },
   "file_extension": ".py",
   "mimetype": "text/x-python",
   "name": "python",
   "nbconvert_exporter": "python",
   "pygments_lexer": "ipython3",
   "version": "3.11.7"
  }
 },
 "nbformat": 4,
 "nbformat_minor": 2
}
