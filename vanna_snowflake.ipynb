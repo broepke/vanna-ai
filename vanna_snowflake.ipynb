{
 "cells": [
  {
   "cell_type": "markdown",
   "metadata": {},
   "source": [
    "# Vanna.AI Test\n",
    "\n",
    "https://vanna.ai/docs/snowflake-openai-vanna-vannadb.html"
   ]
  },
  {
   "cell_type": "code",
   "execution_count": null,
   "metadata": {},
   "outputs": [],
   "source": [
    "import os\n",
    "import vanna\n",
    "from vanna.remote import VannaDefault"
   ]
  },
  {
   "cell_type": "code",
   "execution_count": null,
   "metadata": {},
   "outputs": [],
   "source": [
    "SNOW_ACCOUNT = os.environ.get(\"SNOW_ACCOUNT\")\n",
    "SNOW_USER = os.environ.get(\"SNOW_USER\")\n",
    "SNOW_PASS = os.environ.get(\"SNOW_PASS\")\n",
    "SNOW_WAREHOUSE = \"DEADPOOL\"\n",
    "SNOW_DATABASE = \"DEADPOOL\"\n",
    "\n",
    "api_key = vanna.get_api_key(\"VANNA_API_KEY\")"
   ]
  },
  {
   "cell_type": "code",
   "execution_count": null,
   "metadata": {},
   "outputs": [],
   "source": [
    "vanna_model_name = \"deadpool-test\"\n",
    "vn = VannaDefault(model=vanna_model_name, api_key=api_key)"
   ]
  },
  {
   "cell_type": "code",
   "execution_count": null,
   "metadata": {},
   "outputs": [],
   "source": [
    "snow_account = os.environ.get(\"VANNA_API_KEY\")\n",
    "\n",
    "vn.connect_to_snowflake(\n",
    "    account=SNOW_ACCOUNT,\n",
    "    username=SNOW_USER,\n",
    "    password=SNOW_PASS,\n",
    "    database=SNOW_DATABASE,\n",
    "    role=\"ENGINEER\",\n",
    ")"
   ]
  },
  {
   "cell_type": "code",
   "execution_count": null,
   "metadata": {},
   "outputs": [],
   "source": [
    "# The information schema query may need some tweaking depending on your database. This is a good starting point.\n",
    "df_information_schema = vn.run_sql(\"SELECT * FROM INFORMATION_SCHEMA.COLUMNS WHERE TABLE_NAME = 'PLAYERS' OR TABLE_NAME = 'PICKS'\")\n",
    "\n",
    "# This will break up the information schema into bite-sized chunks that can be referenced by the LLM\n",
    "plan = vn.get_training_plan_generic(df_information_schema)\n",
    "plan\n",
    "\n",
    "# If you like the plan, then uncomment this and run it to train\n",
    "vn.train(plan=plan)"
   ]
  },
  {
   "cell_type": "code",
   "execution_count": null,
   "metadata": {},
   "outputs": [],
   "source": [
    "plan"
   ]
  },
  {
   "cell_type": "code",
   "execution_count": null,
   "metadata": {},
   "outputs": [],
   "source": [
    "# The following are methods for adding training data. Make sure you modify the examples to match your database.\n",
    "\n",
    "# DDL statements are powerful because they specify table names, colume names, types, and potentially relationships\n",
    "vn.train(ddl=\"\"\"\n",
    "    CREATE TABLE IF NOT EXISTS DEADPOOL.PROD.PICKS (\n",
    "\tNAME VARCHAR(256),\n",
    "\tBIRTH_DATE DATE,\n",
    "\tDEATH_DATE DATE,\n",
    "\tPICKED_BY VARCHAR(256),\n",
    "\tWIKI_PAGE VARCHAR(256),\n",
    "\tYEAR NUMBER(38,0),\n",
    "\tTIMESTAMP TIMESTAMP_NTZ(9),\n",
    "\tWIKI_ID VARCHAR(256),\n",
    "\tAGE NUMBER(10,1)\n",
    ");\n",
    "\"\"\")\n",
    "\n",
    "vn.train(ddl=\"\"\"\n",
    "    CREATE TABLE IF NOT EXISTS DEADPOOL.PROD.PLAYERS (\n",
    "\tFIRST_NAME VARCHAR(256),\n",
    "\tLAST_NAME VARCHAR(256),\n",
    "\tEMAIL VARCHAR(256),\n",
    "\tOPT_IN BOOLEAN,\n",
    "\tSMS VARCHAR(256),\n",
    "\tID VARCHAR(36),\n",
    "\tPASSWORD VARCHAR(256),\n",
    "\tYEAR_ONE NUMBER(10,1),\n",
    "\tYEAR_TWO NUMBER(10,1)\n",
    ");\n",
    "\"\"\")\n",
    "\n",
    "# Sometimes you may want to add documentation about your business terminology or definitions.\n",
    "vn.train(documentation=\"Deadpool app for the 2024 game\")\n",
    "\n",
    "# You can also add SQL queries to your training data. This is useful if you have some queries already laying around. You can just copy and paste those from your editor to begin generating new SQL.\n",
    "vn.train(sql=\"\"\"\n",
    "select concat(first_name || ' ' || last_name), count(name) as total_picks \n",
    "from picks p\n",
    "left join players pl \n",
    "on p.picked_by = pl.id\n",
    "where year = 2024 \n",
    "group by 1         \n",
    "\"\"\")"
   ]
  },
  {
   "cell_type": "code",
   "execution_count": null,
   "metadata": {},
   "outputs": [],
   "source": [
    "# At any time you can inspect what training data the package is able to reference\n",
    "training_data = vn.get_training_data()\n",
    "training_data"
   ]
  },
  {
   "cell_type": "code",
   "execution_count": null,
   "metadata": {},
   "outputs": [],
   "source": [
    "# for id in training_data['id']:\n",
    "#     vn.remove_training_data(id)"
   ]
  },
  {
   "cell_type": "code",
   "execution_count": null,
   "metadata": {},
   "outputs": [],
   "source": [
    "vn.ask(question=\"How many players are there in the game?\")"
   ]
  },
  {
   "cell_type": "code",
   "execution_count": 88,
   "metadata": {},
   "outputs": [],
   "source": [
    "from vanna.flask import VannaFlaskApp\n",
    "app = VannaFlaskApp(vn)\n",
    "app.run()"
   ]
  },
  {
   "cell_type": "code",
   "execution_count": null,
   "metadata": {},
   "outputs": [],
   "source": []
  }
 ],
 "metadata": {
  "kernelspec": {
   "display_name": "venv",
   "language": "python",
   "name": "python3"
  },
  "language_info": {
   "codemirror_mode": {
    "name": "ipython",
    "version": 3
   },
   "file_extension": ".py",
   "mimetype": "text/x-python",
   "name": "python",
   "nbconvert_exporter": "python",
   "pygments_lexer": "ipython3",
   "version": "3.11.7"
  }
 },
 "nbformat": 4,
 "nbformat_minor": 2
}
